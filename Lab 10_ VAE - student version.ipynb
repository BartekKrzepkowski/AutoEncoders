{
 "cells": [
  {
   "cell_type": "markdown",
   "metadata": {
    "id": "4zAUGgAOtbQN"
   },
   "source": [
    "## Variational AutoEncoders\n",
    "\n",
    "In this lab excercise you will train a Variational AutoEncoder to learn the distribution of the MNIST data. You will explore the latent space and learn how to generate new samples. \n",
    "\n",
    "Some notation:\n",
    "* $P^*$ is the true data distribution. We have some samples from this.\n",
    "* $p(z)$ is a *prior* distribution over the latent space. In our model it is multivariate gaussian distribution $N(0,\\mathbb{I})$.\n",
    "* $E(x)$ is the encoder that accepts data points as input and outputs distributions over the latent space $Z$. The produced distribution is denoted $q_\\phi(z|x)$ and is the (approximate) *posterior* distribution. In our model this is mutlivariate gaussian distribution $q_\\phi(z|x) \\sim N(\\mu, diag(\\sigma^2)$.<br>\n",
    "Notes:\n",
    "    1. $\\phi$ are weights of the encoder network.\n",
    "    2. Encoder network accepts data points as input and outputs $\\mu$ and $\\sigma$, which are vectors of the same length as latent space. They are used to construct the approximate posterior distribution $q_\\phi(z|x)$.\n",
    "* $D(z)$ is the decoder that accepts samples from the latent distribution and output parameters of the the likelihood distribution $p_\\theta(x|z)$. In our model this is Bernoulli trial per each pixel $p_\\theta(x|z_0) \\sim Bern(p)$.<br>\n",
    "Notes:\n",
    "    1. $\\theta$ are weights of the decoder network.\n",
    "    2. Decoder network accepts sample from the posterior distribution $q_\\phi(z|x)$ and outputs p, which is a matrix of the shape of the input image. Each value of the matrix is the parameter $\\pi$ of the Bernoulli trial $Bern(\\pi)$ for the corresponding pixel.\n",
    "    3. Data points are clipped to only contain values 0 and 1 so that the model could be trained in the given setup.\n",
    "\n",
    "Loss:\n",
    "The loss that is used is called ELBO (the Evidence Lower Bound).\n",
    "\n",
    "$$ELBO = \\mathbb{E}_{z \\sim q(z|x)} \\big[\\log p_\\theta(x|z)\\big] - \\mathbb{KL}\\big(q_\\phi(z | x) || p(z)\\big).$$\n",
    "\n",
    "The following equation holds:\n",
    "\n",
    "\n",
    "$$\\log p_{\\theta}(x) = ELBO + \\mathbb{KL}(q_\\theta(z|x) || p(z|x))$$\n",
    "\n",
    "Maximization of ELBO is equivalent of minimization of KL-divergence between to variational posterior distribution and the true posterior distribution.\n",
    "\n",
    "The first term of the loss is trained via stochastic gradient descent. The second term can be calculated analytically in our setup and is equal to:\n",
    "\n",
    "$$ \\mathbb{KL}\\big( \\mathcal{N}(\\mu, \\sigma^2) || \\mathcal{N}(0, 1) \\big) = \\frac12 \\big(\\sigma^2  - \\log(\\sigma^2) + \\mu^2 - 1 \\big).$$\n"
   ]
  },
  {
   "cell_type": "markdown",
   "metadata": {
    "id": "BjytfiYf2E2F"
   },
   "source": [
    "Tasks for the tutorial:\n",
    "1. Run the pipeline and verify that VAE is training and generating decent digit representation.\n",
    "2. Play with training parameters and / or network layers to better learn hidden representation of the data\n",
    "3. Implement sample_latent method in the VariationalAutoEncoder class, which accepts original image as input and outputs samples from the posterior distribution $q_\\phi(z|x)$.\n",
    "4. Implement sample method in the VariationalAutoEncoder class, which accepts sample size and optionally samples from the prior distribution. as input and outputs samples:\n",
    "    1. If samples are not avialable, take a sample $z_0 \\sim p(z)$ from the prior distribution.\n",
    "    2. Decode the latent $p_\\theta(x|z_0) = D_\\theta(z_0)$.\n",
    "    3. Sample a reconstruction from the likelihood: $x_0 \\sim p_\\theta(x|z_0)$.\n",
    "5. Explore the latent space. For each class encode a sample (>=100) of images of that class and take one parameters from the posterior distribution $q_\\phi(z|x)$ per image. Visualize samples as scatter plot. Remember to color points according to image classes!\n",
    "5. Sample two points $z_0, z_1$ from the prior distibution $p(z)$. Perform interpolation i.e. visualize how samples change based on points from segment ended by $z_0$ and $z_1$."
   ]
  },
  {
   "cell_type": "code",
   "execution_count": null,
   "metadata": {
    "id": "IS7ArVp7OUX7"
   },
   "outputs": [],
   "source": [
    "import torch\n",
    "import torch.nn as nn\n",
    "import torch.nn.functional as F\n",
    "import torch.optim as optim\n",
    "from torchvision import datasets, transforms\n",
    "import torchvision.utils as vutils\n",
    "\n",
    "from collections import namedtuple\n",
    "import numpy as np\n",
    "import matplotlib.pyplot as plt"
   ]
  },
  {
   "cell_type": "code",
   "execution_count": null,
   "metadata": {
    "id": "sClt7yRJe9ei"
   },
   "outputs": [],
   "source": [
    "batch_size = 1024\n",
    "test_batch_size = 1000\n",
    "epochs = 15\n",
    "lr = 5e-3\n",
    "use_cuda = False\n",
    "seed = 1\n",
    "log_interval = 5\n",
    "\n",
    "latent_size = 200"
   ]
  },
  {
   "cell_type": "code",
   "execution_count": null,
   "metadata": {
    "id": "SlR2Jo4we9hR"
   },
   "outputs": [],
   "source": [
    "use_cuda = not use_cuda and torch.cuda.is_available()\n",
    "\n",
    "torch.manual_seed(seed)\n",
    "device = torch.device(\"cuda\" if use_cuda else \"cpu\")\n",
    "\n",
    "train_kwargs = {'batch_size': batch_size}\n",
    "test_kwargs = {'batch_size': test_batch_size}\n",
    "if use_cuda:\n",
    "    cuda_kwargs = {'num_workers': 1,\n",
    "                    'pin_memory': True,\n",
    "                    'shuffle': True}\n",
    "    train_kwargs.update(cuda_kwargs)\n",
    "    test_kwargs.update(cuda_kwargs)"
   ]
  },
  {
   "cell_type": "code",
   "execution_count": null,
   "metadata": {
    "id": "rT86Jr8Fhbjv"
   },
   "outputs": [],
   "source": [
    "def visualize_data(\n",
    "    images, \n",
    "    labels,\n",
    "    max_images, max_fig_size=(30, 30)):\n",
    "  \n",
    "    num_frames, num_channels, h, w, = images.shape\n",
    "    num_frames = min(num_frames, max_images)\n",
    "    ff, axes = plt.subplots(1, num_frames,\n",
    "                            figsize=max_fig_size,\n",
    "                            subplot_kw={'xticks': [], 'yticks': []})\n",
    "    if num_frames == 1:\n",
    "        axes = [axes]\n",
    "    \n",
    "    for i in range(0, num_frames):\n",
    "        if num_channels == 3:\n",
    "            axes[i].imshow(np.squeeze(images[i]))\n",
    "        else:\n",
    "            axes[i].imshow(np.squeeze(images[i]), cmap='gray')\n",
    "        if labels is not None:\n",
    "            axes[i].set_title(labels[i].item(), fontsize=28)\n",
    "        plt.setp(axes[i].get_xticklabels(), visible=False)\n",
    "        plt.setp(axes[i].get_yticklabels(), visible=False)\n",
    "    ff.subplots_adjust(wspace=0.1)\n",
    "    plt.show()"
   ]
  },
  {
   "cell_type": "code",
   "execution_count": null,
   "metadata": {
    "id": "K2CtBG2eT4wf"
   },
   "outputs": [],
   "source": [
    "class Binarize:\n",
    "    def __call__(self, sample):\n",
    "        return torch.bernoulli(sample)\n",
    "\n",
    "transform=transforms.Compose([\n",
    "    transforms.ToTensor(),\n",
    "    Binarize()\n",
    "    ])\n",
    "dataset1 = datasets.MNIST('./data', train=True, download=True,\n",
    "                    transform=transform)\n",
    "dataset2 = datasets.MNIST('./data', train=False,\n",
    "                    transform=transform)\n",
    "train_loader = torch.utils.data.DataLoader(dataset1,**train_kwargs)\n",
    "test_loader = torch.utils.data.DataLoader(dataset2, **test_kwargs)"
   ]
  },
  {
   "cell_type": "code",
   "execution_count": null,
   "metadata": {
    "colab": {
     "base_uri": "https://localhost:8080/",
     "height": 242
    },
    "executionInfo": {
     "elapsed": 533,
     "status": "ok",
     "timestamp": 1639942305489,
     "user": {
      "displayName": "Mateusz Doliński",
      "photoUrl": "https://lh3.googleusercontent.com/a/default-user=s64",
      "userId": "08048356225739204327"
     },
     "user_tz": -60
    },
    "id": "rgKkmCvrgK02",
    "outputId": "0a1686cd-ea87-4ec1-aaef-b4dcad4536c0"
   },
   "outputs": [],
   "source": [
    "real_batch = next(iter(train_loader))\n",
    "visualize_data(real_batch[0], real_batch[1], 8)"
   ]
  },
  {
   "cell_type": "code",
   "execution_count": null,
   "metadata": {
    "id": "Q8uArUpViSR6"
   },
   "outputs": [],
   "source": [
    "EncoderOutput = namedtuple(\"EncoderOutput\", [\"mu\", \"sigma\"])\n",
    "\n",
    "class Encoder(nn.Module):\n",
    "    def __init__(\n",
    "      self,\n",
    "      linear_sizes,\n",
    "      latent_size,\n",
    "      *args,\n",
    "      **kwargs\n",
    "    ):\n",
    "        super().__init__()\n",
    "        self.layers = nn.ModuleList()\n",
    "        for in_layer_size, out_layer_size in zip(linear_sizes, linear_sizes[1:]):\n",
    "            self.layers.append(nn.Linear(in_layer_size, out_layer_size, *args, **kwargs))\n",
    "            self.layers.append(nn.BatchNorm1d(out_layer_size))\n",
    "            self.layers.append(nn.ReLU())\n",
    "\n",
    "        self.last_layer_mu = nn.Linear(linear_sizes[-1], latent_size)\n",
    "        self.last_layer_sigma = nn.Linear(linear_sizes[-1], latent_size)\n",
    "\n",
    "    def forward(self, x):\n",
    "        x = nn.Flatten()(x)\n",
    "        for layer in self.layers:\n",
    "            x = layer(x)\n",
    "\n",
    "        mu = self.last_layer_mu(x)\n",
    "        logsigma = self.last_layer_sigma(x)\n",
    "        return EncoderOutput(mu, torch.log(1 + torch.exp(logsigma)))"
   ]
  },
  {
   "cell_type": "code",
   "execution_count": null,
   "metadata": {
    "id": "mzhckY-fiSdC"
   },
   "outputs": [],
   "source": [
    "class Decoder(nn.Module):\n",
    "    def __init__(\n",
    "        self,\n",
    "        linear_sizes,\n",
    "        output_size,\n",
    "        *args,\n",
    "        **kwargs\n",
    "    ):\n",
    "        super().__init__()\n",
    "        self.layers = nn.ModuleList()\n",
    "        for in_layer_size, out_layer_size in zip(linear_sizes, linear_sizes[1:]):\n",
    "            self.layers.append(nn.Linear(in_layer_size, out_layer_size, *args, **kwargs))\n",
    "            self.layers.append(nn.BatchNorm1d(out_layer_size))\n",
    "            self.layers.append(nn.ReLU())\n",
    "\n",
    "        self.last_layer = nn.Sequential(\n",
    "            nn.Linear(linear_sizes[-1], output_size[0] * output_size[1]),\n",
    "            nn.Sigmoid()\n",
    "        )\n",
    "        self.output_size = output_size\n",
    "\n",
    "    def forward(self, z):\n",
    "        for layer in self.layers:\n",
    "            z = layer(z)\n",
    "\n",
    "        x = self.last_layer(z)\n",
    "\n",
    "        x = x.view(-1, 1, *self.output_size)\n",
    "        return x"
   ]
  },
  {
   "cell_type": "code",
   "execution_count": null,
   "metadata": {
    "id": "1DTAUBAWO-uO"
   },
   "outputs": [],
   "source": [
    "VariationalAutoEncoderOutput = namedtuple(\"VariationalAutoEncoderOutput\", [\"mu\", \"sigma\", \"p\"])\n",
    "\n",
    "\n",
    "class VariationalAutoEncoder(nn.Module):\n",
    "    def __init__(self, \n",
    "                 encoder_linear_sizes,\n",
    "                 latent_size,\n",
    "                 decoder_linear_sizes,\n",
    "                 output_size):\n",
    "        super().__init__()\n",
    "        self.encoder = Encoder(encoder_linear_sizes, \n",
    "                               latent_size)\n",
    "        self.decoder = Decoder(decoder_linear_sizes, \n",
    "                               output_size)\n",
    "        self.latent_size = latent_size\n",
    "        self.output_size = output_size\n",
    "        self.binarize = Binarize()\n",
    "\n",
    "    def forward(self, x):\n",
    "        encoded = self.encoder(x)\n",
    "\n",
    "        z = torch.normal(0., 1., size=list(encoded.mu.size())).to(device)\n",
    "        z = ( z * encoded.sigma ) + encoded.mu\n",
    "\n",
    "        decoded = self.decoder(z)\n",
    "        return VariationalAutoEncoderOutput(encoded.mu, encoded.sigma, decoded)\n",
    "\n",
    "    def sample_latent(self, x):\n",
    "        # TODO: Task 3.\n",
    "        encoded = self.encoder(x)\n",
    "        z = torch.normal(0., 1., size=list(encoded.mu.size())).to(device)\n",
    "        z = ( z * encoded.sigma ) + encoded.mu\n",
    "        return z\n",
    "\n",
    "    def sample(self, sample_size, samples=None):\n",
    "        # TODO: Task 4.\n",
    "        if samples is None:\n",
    "            samples = torch.normal(0., 1., size=sample_size).to(device)\n",
    "        decoded = self.decoder(samples)\n",
    "        reconstruction  = self.binarize(decoded)\n",
    "        return reconstruction\n"
   ]
  },
  {
   "cell_type": "code",
   "execution_count": null,
   "metadata": {
    "id": "TxH7c7DLUqaK"
   },
   "outputs": [],
   "source": [
    "def KL_gaussian_loss(mu, sigma):\n",
    "    return torch.mean(((sigma * sigma) - (2 * torch.log(sigma)) + (mu * mu) - 1) / 2)\n",
    "# neg ELBO (maksymalizujemy lower bound)\n",
    "def ELBO(x, p, mu, sigma):\n",
    "    BCE = F.binary_cross_entropy(p, x)\n",
    "    KL = KL_gaussian_loss(mu, sigma)\n",
    "    return BCE + KL"
   ]
  },
  {
   "cell_type": "code",
   "execution_count": null,
   "metadata": {
    "id": "RaLfX073T4y2"
   },
   "outputs": [],
   "source": [
    "def train(model, device, train_loader, optimizer, epoch, log_interval):\n",
    "    model.train()\n",
    "    for batch_idx, (data, _) in enumerate(train_loader):\n",
    "        data = data.to(device)\n",
    "        optimizer.zero_grad()\n",
    "        output = model(data)\n",
    "        loss = ELBO(data, output.p, output.mu, output.sigma)\n",
    "        loss.backward()\n",
    "        optimizer.step()\n",
    "        if batch_idx % log_interval == 0:\n",
    "            print('Train Epoch: {} [{}/{} ({:.0f}%)]\\tLoss: {:.6f}'.format(\n",
    "                epoch, batch_idx * len(data), len(train_loader.dataset),\n",
    "                100. * batch_idx / len(train_loader), loss.item()))\n",
    "\n",
    "def test(model, device, test_loader):\n",
    "    model.eval()\n",
    "    test_loss = 0\n",
    "    with torch.no_grad():\n",
    "        for batch_idx, (data, _) in enumerate(test_loader):\n",
    "            data = data.to(device)\n",
    "            output = model(data)\n",
    "            loss = ELBO(data, output.p, output.mu, output.sigma)\n",
    "            test_loss = test_loss + (loss * data.size(0))\n",
    "\n",
    "    test_loss /= len(test_loader.dataset)\n",
    "\n",
    "    print('\\nTest set: Average loss: {:.4f}\\n'.format(test_loss))"
   ]
  },
  {
   "cell_type": "code",
   "execution_count": null,
   "metadata": {
    "id": "OPvtDGH_ahlH"
   },
   "outputs": [],
   "source": [
    "vae = VariationalAutoEncoder([28 * 28, 500, 350], latent_size, [200, 350, 500], (28, 28))\n",
    "vae.to(device)\n",
    "optimizer = optim.AdamW(vae.parameters(), lr=lr)"
   ]
  },
  {
   "cell_type": "code",
   "execution_count": null,
   "metadata": {
    "colab": {
     "base_uri": "https://localhost:8080/"
    },
    "executionInfo": {
     "elapsed": 273106,
     "status": "ok",
     "timestamp": 1639942578593,
     "user": {
      "displayName": "Mateusz Doliński",
      "photoUrl": "https://lh3.googleusercontent.com/a/default-user=s64",
      "userId": "08048356225739204327"
     },
     "user_tz": -60
    },
    "id": "ImwdwB4CnT2Y",
    "outputId": "e5229951-b1c9-4611-fdf9-98e1d780e200",
    "tags": []
   },
   "outputs": [],
   "source": [
    "for epoch in range(1, epochs + 1):\n",
    "    train(vae, device, train_loader, optimizer, epoch, log_interval)\n",
    "    test(vae, device, test_loader)"
   ]
  },
  {
   "cell_type": "code",
   "execution_count": null,
   "metadata": {
    "colab": {
     "base_uri": "https://localhost:8080/",
     "height": 242
    },
    "executionInfo": {
     "elapsed": 389,
     "status": "ok",
     "timestamp": 1639942578970,
     "user": {
      "displayName": "Mateusz Doliński",
      "photoUrl": "https://lh3.googleusercontent.com/a/default-user=s64",
      "userId": "08048356225739204327"
     },
     "user_tz": -60
    },
    "id": "ygIa5GSKT44J",
    "outputId": "0ba9d305-e80d-4fb1-f1e7-46dfe88c2bf3"
   },
   "outputs": [],
   "source": [
    "vae.eval()\n",
    "visualize_data(vae(real_batch[0].to(device)).p.detach().cpu().numpy(), labels=real_batch[1].cpu().numpy(), max_images=8)"
   ]
  },
  {
   "cell_type": "code",
   "execution_count": null,
   "metadata": {
    "colab": {
     "base_uri": "https://localhost:8080/",
     "height": 242
    },
    "executionInfo": {
     "elapsed": 742,
     "status": "ok",
     "timestamp": 1639942579708,
     "user": {
      "displayName": "Mateusz Doliński",
      "photoUrl": "https://lh3.googleusercontent.com/a/default-user=s64",
      "userId": "08048356225739204327"
     },
     "user_tz": -60
    },
    "id": "YYheNObJc2Gt",
    "outputId": "bd1fcad8-1baa-4615-8686-e152d5f369bc"
   },
   "outputs": [],
   "source": [
    "visualize_data(torch.bernoulli(vae(real_batch[0].to(device)).p).detach().cpu().numpy(), labels=real_batch[1].cpu().numpy(), max_images=8)"
   ]
  },
  {
   "cell_type": "markdown",
   "metadata": {
    "id": "XbkVo2f-1igD"
   },
   "source": [
    "## Visualization of latent space"
   ]
  },
  {
   "cell_type": "code",
   "execution_count": null,
   "metadata": {},
   "outputs": [],
   "source": [
    "from umap import UMAP\n",
    "# TODO\n",
    "# Task 5.\n",
    "\n",
    "dec_output = vae.forward(real_batch[0].to(device))\n",
    "reconstriction = dec_output.p.flatten(start_dim=1).detach().cpu().numpy()\n",
    "mu = dec_output.mu.detach().cpu().numpy()\n",
    "sigma = dec_output.sigma.detach().cpu().numpy()\n",
    "z = vae.sample_latent(real_batch[0].to(device)).detach().cpu().numpy()"
   ]
  },
  {
   "cell_type": "code",
   "execution_count": null,
   "metadata": {},
   "outputs": [],
   "source": [
    "# Visualization of latent space (2D)\n",
    "z_2d = UMAP(n_components=2, random_state=42).fit_transform(z)\n",
    "plt.figure(figsize=(12, 10))\n",
    "scatter = plt.scatter(z_2d[:,0], z_2d[:,1], c=real_batch[1].numpy(), s=10, cmap='tab10')\n",
    "plt.colorbar(boundaries=np.arange(11)-0.5).set_ticks(np.arange(10))\n",
    "plt.grid()"
   ]
  },
  {
   "cell_type": "code",
   "execution_count": null,
   "metadata": {},
   "outputs": [],
   "source": [
    "# Visualization of images (2D)\n",
    "images_2d = UMAP(n_components=2, random_state=42).fit_transform(real_batch[0].flatten(start_dim=1).numpy())\n",
    "plt.figure(figsize=(12, 10))\n",
    "scatter = plt.scatter(images_2d[:,0], images_2d[:,1], c=real_batch[1].numpy(), s=10, cmap='tab10')\n",
    "plt.colorbar(boundaries=np.arange(11)-0.5).set_ticks(np.arange(10))\n",
    "plt.grid()"
   ]
  },
  {
   "cell_type": "code",
   "execution_count": null,
   "metadata": {},
   "outputs": [],
   "source": [
    "# Visualization of reconstruction (2D)\n",
    "z_2d = UMAP(n_components=2, random_state=42).fit_transform(reconstriction)\n",
    "plt.figure(figsize=(12, 10))\n",
    "scatter = plt.scatter(z_2d[:,0], z_2d[:,1], c=real_batch[1].numpy(), s=10, cmap='tab10')\n",
    "plt.colorbar(boundaries=np.arange(11)-0.5).set_ticks(np.arange(10))\n",
    "plt.grid()"
   ]
  },
  {
   "cell_type": "code",
   "execution_count": null,
   "metadata": {
    "id": "Uiie8NgLPxHd"
   },
   "outputs": [],
   "source": [
    "# Visualization of mu (2D)\n",
    "mu_2d = UMAP(n_components=2, random_state=42).fit_transform(mu)\n",
    "plt.figure(figsize=(12, 10))\n",
    "scatter = plt.scatter(mu_2d[:,0], mu_2d[:,1], c=real_batch[1].numpy(), s=10, cmap='tab10')\n",
    "plt.colorbar(boundaries=np.arange(11)-0.5).set_ticks(np.arange(10))\n",
    "plt.grid()"
   ]
  },
  {
   "cell_type": "code",
   "execution_count": null,
   "metadata": {},
   "outputs": [],
   "source": [
    "# Visualization of sigma (2D)\n",
    "sigma_2d = UMAP(n_components=2, random_state=42).fit_transform(sigma)\n",
    "plt.figure(figsize=(12, 10))\n",
    "scatter = plt.scatter(sigma_2d[:,0], sigma_2d[:,1], c=real_batch[1].numpy(), s=10, cmap='tab10')\n",
    "plt.colorbar(boundaries=np.arange(11)-0.5).set_ticks(np.arange(10))\n",
    "plt.grid()"
   ]
  },
  {
   "cell_type": "markdown",
   "metadata": {
    "id": "-EYddyRt1i8O"
   },
   "source": [
    "Sample interpolation"
   ]
  },
  {
   "cell_type": "code",
   "execution_count": null,
   "metadata": {
    "id": "IO3x-eFuP1yI"
   },
   "outputs": [],
   "source": [
    "#%%capture\n",
    "# TODO\n",
    "# Task 6."
   ]
  },
  {
   "cell_type": "code",
   "execution_count": null,
   "metadata": {},
   "outputs": [],
   "source": []
  }
 ],
 "metadata": {
  "colab": {
   "collapsed_sections": [],
   "name": "Kopia notatnika GSN 21/22  VAE - student version.ipynb",
   "provenance": [
    {
     "file_id": "1DAVc9dLeOCLb3LSClk4BF9cNZOXaSiw9",
     "timestamp": 1644060033901
    },
    {
     "file_id": "1so5hjccCSQwcVibxcnFLRvzIXBXjsg2P",
     "timestamp": 1642276684993
    },
    {
     "file_id": "1UUpo8ZNE7TlazdUqm0QRoDd1xXg91-sF",
     "timestamp": 1639943392244
    }
   ]
  },
  "kernelspec": {
   "display_name": "tldl",
   "language": "python",
   "name": "tldl"
  },
  "language_info": {
   "codemirror_mode": {
    "name": "ipython",
    "version": 3
   },
   "file_extension": ".py",
   "mimetype": "text/x-python",
   "name": "python",
   "nbconvert_exporter": "python",
   "pygments_lexer": "ipython3",
   "version": "3.8.10"
  }
 },
 "nbformat": 4,
 "nbformat_minor": 4
}
