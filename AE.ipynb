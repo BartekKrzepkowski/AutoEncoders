{
 "cells": [
  {
   "cell_type": "code",
   "execution_count": null,
   "id": "eac39918-4a43-4383-884d-80d0f0c91962",
   "metadata": {},
   "outputs": [],
   "source": [
    "%load_ext autoreload\n",
    "%autoreload 2\n",
    "%load_ext tensorboard"
   ]
  },
  {
   "cell_type": "code",
   "execution_count": null,
   "id": "3907a614-9303-4ae8-9965-720b288e7a07",
   "metadata": {},
   "outputs": [],
   "source": [
    "import numpy as np\n",
    "import torch\n",
    "from torch import nn\n",
    "device = torch.device('cuda:0' if torch.cuda.is_available() else 'cpu')"
   ]
  },
  {
   "cell_type": "code",
   "execution_count": null,
   "id": "8ab526f5-50ca-4c54-815a-ca0b51882d7f",
   "metadata": {},
   "outputs": [],
   "source": [
    "from torchvision.datasets import MNIST, FashionMNIST\n",
    "from torchvision.transforms import Compose, ToTensor, Normalize\n",
    "from torch.utils.data import DataLoader\n",
    "\n",
    "class Binarize:\n",
    "    def __call__(self, sample):\n",
    "        return torch.bernoulli(sample)\n",
    "\n",
    "transform = Compose([ToTensor()])\n",
    "\n",
    "dataset_train = FashionMNIST('./data', train=True, transform=transform, download=True)\n",
    "dataset_test = FashionMNIST('./data', train=False, transform=transform, download=True)\n",
    "\n",
    "loader_train = DataLoader(dataset_train, batch_size=64, shuffle=True, pin_memory=True, num_workers=4)\n",
    "loader_test = DataLoader(dataset_test, batch_size=64, shuffle=False, pin_memory=True, num_workers=4)\n",
    "\n",
    "loaders = {\n",
    "    'train': loader_train,\n",
    "    'test': loader_test\n",
    "}"
   ]
  },
  {
   "cell_type": "code",
   "execution_count": null,
   "id": "f896a07e-a00a-4d66-822e-9122527e7ee0",
   "metadata": {},
   "outputs": [],
   "source": [
    "class AutoEncoder(nn.Module):\n",
    "    def __init__(self, encoder, decoder):\n",
    "        super().__init__()\n",
    "        self.encoder = encoder\n",
    "        self.decoder = decoder\n",
    "            \n",
    "    def forward(self, x):\n",
    "        enc = self.encoder(x)\n",
    "        dec = self.decoder(enc)\n",
    "        return dec, enc\n",
    "    \n",
    "    \n",
    "class Encoder(nn.Module):\n",
    "    def __init__(self, img_dims, noise=nn.Identity()):\n",
    "        super().__init__()\n",
    "        flatten_img_dims = np.prod(img_dims)\n",
    "        self.noise = noise\n",
    "        self.normalize = nn.BatchNorm2d(1)\n",
    "        self.encoder = nn.Sequential(nn.Linear(flatten_img_dims, 512), nn.BatchNorm1d(512), nn.ReLU(),\n",
    "                                     nn.Linear(512, 256), nn.BatchNorm1d(256), nn.ReLU(),\n",
    "                                     nn.Linear(256, 128))\n",
    "            \n",
    "    def forward(self, x):\n",
    "        x = self.normalize(x)\n",
    "        x = self.noise(x)\n",
    "        x = x.flatten(start_dim=1)\n",
    "        x = self.encoder(x)\n",
    "        return x\n",
    "    \n",
    "    \n",
    "class Decoder(nn.Module):\n",
    "    def __init__(self, img_dims):\n",
    "        super().__init__()\n",
    "        self.img_dims = img_dims\n",
    "        flatten_img_dims = np.prod(img_dims)\n",
    "        self.decoder = nn.Sequential(nn.Linear(128, 256), nn.BatchNorm1d(256), nn.ReLU(),\n",
    "                                     nn.Linear(256, 512), nn.BatchNorm1d(512), nn.ReLU(),\n",
    "                                     nn.Linear(512, flatten_img_dims))\n",
    "            \n",
    "    def forward(self, x):\n",
    "        x = self.decoder(x)\n",
    "        x = x.view(x.size(0), *self.img_dims)\n",
    "        if self.img_dims[0] == 1:\n",
    "            x = torch.sigmoid(x)\n",
    "        return x"
   ]
  },
  {
   "cell_type": "code",
   "execution_count": null,
   "id": "b41d991a-c462-4a0b-9d61-1dbe23a4521b",
   "metadata": {},
   "outputs": [],
   "source": [
    "import datetime\n",
    "from tqdm.auto import tqdm\n",
    "from tensorboard_pytorch import TensorboardPyTorch\n",
    "\n",
    "def run_epoch(model, loaders, criterion, optim, writer, epoch, phase):\n",
    "    running_acc = 0.0\n",
    "    running_loss = 0.0\n",
    "    for x_true, _ in loaders[phase]:\n",
    "        x_true = x_true.to(device)\n",
    "        x_rec, _ = model(x_true)\n",
    "        loss = criterion(x_rec, x_true)\n",
    "        if 'train' in phase:\n",
    "            optim.zero_grad()\n",
    "            loss.backward()\n",
    "            optim.step()\n",
    "        running_loss += loss.item() * x_true.size(0)\n",
    "\n",
    "    epoch_loss = running_loss / len(loaders[phase].dataset)\n",
    "    writer.log_scalar(f'Loss/{phase}', round(epoch_loss, 4), epoch + 1)\n",
    "    if 'test' in phase:\n",
    "        writer.log_reconstructions_visualize(model, loaders[phase], epoch)\n",
    "    \n",
    "    \n",
    "def simple_trainer(model, loaders, criterion, optim, writer, epoch_start, epoch_end):\n",
    "    for epoch in tqdm(range(epoch_start, epoch_end)):\n",
    "        model.train()\n",
    "        run_epoch(model, loaders, criterion, optim, writer, epoch, phase='train')\n",
    "        model.eval()\n",
    "        with torch.no_grad():\n",
    "            run_epoch(model, loaders, criterion, optim, writer, epoch, phase='test')"
   ]
  },
  {
   "cell_type": "markdown",
   "id": "384a0ab6-80af-4619-9d56-b43cc33d96b1",
   "metadata": {},
   "source": [
    "# Setting"
   ]
  },
  {
   "cell_type": "code",
   "execution_count": null,
   "id": "86379d9b-e2e3-4436-a6a8-07ffa6adbbaa",
   "metadata": {},
   "outputs": [],
   "source": [
    "EPOCHS = 100\n",
    "IMG_DIMS = (1, 28, 28)\n",
    "\n",
    "encoder = Encoder(IMG_DIMS)\n",
    "decoder = Decoder(IMG_DIMS)\n",
    "model = AutoEncoder(encoder, decoder).to(device)\n",
    "criterion = nn.BCELoss().to(device)\n",
    "optim = torch.optim.SGD(model.parameters(), lr=0.01, weight_decay=0.001)\n",
    "\n",
    "date = datetime.datetime.now().strftime(\"%Y-%m-%d_%H-%M-%S\")\n",
    "writer = TensorboardPyTorch(f'tensorboard/autoencoder/fmnist/loss:bce_optim:sgd_lr:{0.01}_wd:{0.001}_epochs_nobn1d:{EPOCHS}/{date}', device)"
   ]
  },
  {
   "cell_type": "code",
   "execution_count": null,
   "id": "da93079c-a5bc-4c15-b527-2a510bff9282",
   "metadata": {},
   "outputs": [],
   "source": [
    "simple_trainer(model, loaders, criterion, optim, writer, epoch_start=0, epoch_end=EPOCHS)"
   ]
  },
  {
   "cell_type": "code",
   "execution_count": null,
   "id": "ebfc7ea0-fdd7-4539-8959-79d166f50fa3",
   "metadata": {},
   "outputs": [],
   "source": [
    "%tensorboard --logdir=tensorboard"
   ]
  },
  {
   "cell_type": "markdown",
   "id": "02c59324-1d18-4fa9-83e3-7380c8ab1202",
   "metadata": {},
   "source": [
    "# Denoising Autoencoders (DAE) (Dropout or Noise)"
   ]
  },
  {
   "cell_type": "markdown",
   "id": "4484809e-f5b3-4d30-b919-7b848fd81b7a",
   "metadata": {},
   "source": [
    "## Dropout"
   ]
  },
  {
   "cell_type": "code",
   "execution_count": null,
   "id": "cdb79176-3251-4be7-83fe-563613279c58",
   "metadata": {},
   "outputs": [],
   "source": [
    "EPOCHS = 100\n",
    "IMG_DIMS = (1, 28, 28)\n",
    "\n",
    "encoder = Encoder(IMG_DIMS, nn.Dropout(0.5))\n",
    "decoder = Decoder(IMG_DIMS)\n",
    "model = AutoEncoder(encoder, decoder).to(device)\n",
    "criterion = nn.BCELoss().to(device)\n",
    "optim = torch.optim.SGD(model.parameters(), lr=0.01, weight_decay=0.001)\n",
    "\n",
    "date = datetime.datetime.now().strftime(\"%Y-%m-%d_%H-%M-%S\")\n",
    "writer = TensorboardPyTorch(f'tensorboard/autoencoder/fmnist_noise:dropout:{0.5}/loss:bce_optim:sgd_lr:{0.01}_wd:{0.001}_epochs:{EPOCHS}/{date}', device)"
   ]
  },
  {
   "cell_type": "code",
   "execution_count": null,
   "id": "10757a00-e4c6-4882-9f06-ab3783f2c70b",
   "metadata": {},
   "outputs": [],
   "source": [
    "simple_trainer(model, loaders, criterion, optim, writer, epoch_start=0, epoch_end=EPOCHS)"
   ]
  },
  {
   "cell_type": "markdown",
   "id": "fea84cd5-e5e0-4d67-b4d2-72006c059c97",
   "metadata": {},
   "source": [
    "## Gaussian Noise"
   ]
  },
  {
   "cell_type": "markdown",
   "id": "70ac7848-d59a-40fa-8e3a-7235ea6ce6f6",
   "metadata": {},
   "source": [
    "### Static std"
   ]
  },
  {
   "cell_type": "code",
   "execution_count": null,
   "id": "a81dabd8-6008-4683-bcae-9e562b2694f7",
   "metadata": {},
   "outputs": [],
   "source": [
    "class GaussianNoise(object):\n",
    "    def __init__(self, mean=0., std=1.):\n",
    "        self.std = std\n",
    "        self.mean = mean\n",
    "        \n",
    "    def __call__(self, tensor):\n",
    "        return tensor + torch.randn_like(tensor) * self.std + self.mean\n",
    "    \n",
    "    def __repr__(self):\n",
    "        return self.__class__.__name__ + '(mean={0}, std={1})'.format(self.mean, self.std)"
   ]
  },
  {
   "cell_type": "code",
   "execution_count": null,
   "id": "74cfa3a0-ae7a-494d-a5a9-69874dd58e08",
   "metadata": {},
   "outputs": [],
   "source": [
    "EPOCHS = 100\n",
    "IMG_DIMS = (1, 28, 28)\n",
    "\n",
    "encoder = Encoder(IMG_DIMS, GaussianNoise(std=0.5))\n",
    "decoder = Decoder(IMG_DIMS)\n",
    "model = AutoEncoder(encoder, decoder).to(device)\n",
    "criterion = nn.BCELoss().to(device)\n",
    "optim = torch.optim.SGD(model.parameters(), lr=0.01, weight_decay=0.001)\n",
    "\n",
    "date = datetime.datetime.now().strftime(\"%Y-%m-%d_%H-%M-%S\")\n",
    "writer = TensorboardPyTorch(f'tensorboard/autoencoder/fmnist_noise:gaussian:{0.1}/loss:bce_optim:sgd_lr:{0.01}_wd:{0.001}_epochs:{EPOCHS}/{date}', device)"
   ]
  },
  {
   "cell_type": "code",
   "execution_count": null,
   "id": "189beccd-0db3-47f2-be79-7b97d0f1ed1f",
   "metadata": {
    "tags": []
   },
   "outputs": [],
   "source": [
    "simple_trainer(model, loaders, criterion, optim, writer, epoch_start=0, epoch_end=EPOCHS)"
   ]
  },
  {
   "cell_type": "markdown",
   "id": "956baca9-3107-4079-ac31-2947be43ab5c",
   "metadata": {},
   "source": [
    "### Dynamic std"
   ]
  },
  {
   "cell_type": "code",
   "execution_count": null,
   "id": "a51941b4-7714-46b9-b749-0e00c817752f",
   "metadata": {},
   "outputs": [],
   "source": [
    "class GaussianNoiseDynamic(object):\n",
    "    def __init__(self, mean=0., mean_std=1.):\n",
    "        self.std = (torch.randn(1).cuda() * mean_std + mean_std) ** 2\n",
    "        self.mean = mean\n",
    "        \n",
    "    def __call__(self, tensor):\n",
    "        return tensor + torch.randn_like(tensor) * self.std + self.mean\n",
    "    \n",
    "    def __repr__(self):\n",
    "        return self.__class__.__name__ + '(mean={0}, std={1})'.format(self.mean, self.std)"
   ]
  },
  {
   "cell_type": "code",
   "execution_count": null,
   "id": "9235604e-e9df-4e02-ba8e-3f960b6f8399",
   "metadata": {},
   "outputs": [],
   "source": [
    "EPOCHS = 100\n",
    "IMG_DIMS = (1, 28, 28)\n",
    "\n",
    "encoder = Encoder(IMG_DIMS, GaussianNoiseDynamic(mean_std=0.5))\n",
    "decoder = Decoder(IMG_DIMS)\n",
    "model = AutoEncoder(encoder, decoder).to(device)\n",
    "criterion = nn.BCELoss().to(device)\n",
    "optim = torch.optim.SGD(model.parameters(), lr=0.01, weight_decay=0.001)\n",
    "\n",
    "date = datetime.datetime.now().strftime(\"%Y-%m-%d_%H-%M-%S\")\n",
    "writer = TensorboardPyTorch(f'tensorboard/autoencoder/fmnist_noise:gaussian_dynamic:{0.5}/loss:bce_optim:sgd_lr:{0.01}_wd:{0.001}_epochs:{EPOCHS}/{date}', device)"
   ]
  },
  {
   "cell_type": "code",
   "execution_count": null,
   "id": "724bf871-dfed-4bd0-8676-846ae732da95",
   "metadata": {},
   "outputs": [],
   "source": [
    "simple_trainer(model, loaders, criterion, optim, writer, epoch_start=0, epoch_end=EPOCHS)"
   ]
  },
  {
   "cell_type": "code",
   "execution_count": null,
   "id": "e16a4816-eb86-4b9d-b47f-2e6b2d380489",
   "metadata": {},
   "outputs": [],
   "source": []
  }
 ],
 "metadata": {
  "kernelspec": {
   "display_name": "tldl",
   "language": "python",
   "name": "tldl"
  },
  "language_info": {
   "codemirror_mode": {
    "name": "ipython",
    "version": 3
   },
   "file_extension": ".py",
   "mimetype": "text/x-python",
   "name": "python",
   "nbconvert_exporter": "python",
   "pygments_lexer": "ipython3",
   "version": "3.8.10"
  }
 },
 "nbformat": 4,
 "nbformat_minor": 5
}
